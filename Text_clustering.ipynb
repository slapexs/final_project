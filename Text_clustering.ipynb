{
  "nbformat": 4,
  "nbformat_minor": 0,
  "metadata": {
    "colab": {
      "provenance": []
    },
    "kernelspec": {
      "name": "python3",
      "display_name": "Python 3"
    },
    "language_info": {
      "name": "python"
    },
    "gpuClass": "standard"
  },
  "cells": [
    {
      "cell_type": "markdown",
      "source": [
        "ref: https://youtu.be/H9OmsD7F7p0"
      ],
      "metadata": {
        "id": "G5YxaAzgl-6c"
      }
    },
    {
      "cell_type": "code",
      "execution_count": 293,
      "metadata": {
        "id": "ZWZivjELl8Lr",
        "colab": {
          "base_uri": "https://localhost:8080/"
        },
        "outputId": "220bb8df-6560-432d-91d6-f3cbe5061d2e"
      },
      "outputs": [
        {
          "output_type": "stream",
          "name": "stdout",
          "text": [
            "Looking in indexes: https://pypi.org/simple, https://us-python.pkg.dev/colab-wheels/public/simple/\n",
            "Requirement already satisfied: pythainlp in /usr/local/lib/python3.8/dist-packages (3.1.1)\n",
            "Requirement already satisfied: requests>=2.22.0 in /usr/local/lib/python3.8/dist-packages (from pythainlp) (2.23.0)\n",
            "Requirement already satisfied: certifi>=2017.4.17 in /usr/local/lib/python3.8/dist-packages (from requests>=2.22.0->pythainlp) (2022.9.24)\n",
            "Requirement already satisfied: idna<3,>=2.5 in /usr/local/lib/python3.8/dist-packages (from requests>=2.22.0->pythainlp) (2.10)\n",
            "Requirement already satisfied: urllib3!=1.25.0,!=1.25.1,<1.26,>=1.21.1 in /usr/local/lib/python3.8/dist-packages (from requests>=2.22.0->pythainlp) (1.24.3)\n",
            "Requirement already satisfied: chardet<4,>=3.0.2 in /usr/local/lib/python3.8/dist-packages (from requests>=2.22.0->pythainlp) (3.0.4)\n",
            "Looking in indexes: https://pypi.org/simple, https://us-python.pkg.dev/colab-wheels/public/simple/\n",
            "Requirement already satisfied: pandas in /usr/local/lib/python3.8/dist-packages (1.3.5)\n",
            "Requirement already satisfied: numpy>=1.17.3 in /usr/local/lib/python3.8/dist-packages (from pandas) (1.21.6)\n",
            "Requirement already satisfied: pytz>=2017.3 in /usr/local/lib/python3.8/dist-packages (from pandas) (2022.6)\n",
            "Requirement already satisfied: python-dateutil>=2.7.3 in /usr/local/lib/python3.8/dist-packages (from pandas) (2.8.2)\n",
            "Requirement already satisfied: six>=1.5 in /usr/local/lib/python3.8/dist-packages (from python-dateutil>=2.7.3->pandas) (1.15.0)\n",
            "Looking in indexes: https://pypi.org/simple, https://us-python.pkg.dev/colab-wheels/public/simple/\n",
            "Requirement already satisfied: numpy in /usr/local/lib/python3.8/dist-packages (1.21.6)\n",
            "Looking in indexes: https://pypi.org/simple, https://us-python.pkg.dev/colab-wheels/public/simple/\n",
            "Requirement already satisfied: scikit-learn in /usr/local/lib/python3.8/dist-packages (1.0.2)\n",
            "Requirement already satisfied: threadpoolctl>=2.0.0 in /usr/local/lib/python3.8/dist-packages (from scikit-learn) (3.1.0)\n",
            "Requirement already satisfied: numpy>=1.14.6 in /usr/local/lib/python3.8/dist-packages (from scikit-learn) (1.21.6)\n",
            "Requirement already satisfied: scipy>=1.1.0 in /usr/local/lib/python3.8/dist-packages (from scikit-learn) (1.7.3)\n",
            "Requirement already satisfied: joblib>=0.11 in /usr/local/lib/python3.8/dist-packages (from scikit-learn) (1.2.0)\n",
            "Looking in indexes: https://pypi.org/simple, https://us-python.pkg.dev/colab-wheels/public/simple/\n",
            "Requirement already satisfied: matplotlib in /usr/local/lib/python3.8/dist-packages (3.2.2)\n",
            "Requirement already satisfied: cycler>=0.10 in /usr/local/lib/python3.8/dist-packages (from matplotlib) (0.11.0)\n",
            "Requirement already satisfied: kiwisolver>=1.0.1 in /usr/local/lib/python3.8/dist-packages (from matplotlib) (1.4.4)\n",
            "Requirement already satisfied: numpy>=1.11 in /usr/local/lib/python3.8/dist-packages (from matplotlib) (1.21.6)\n",
            "Requirement already satisfied: python-dateutil>=2.1 in /usr/local/lib/python3.8/dist-packages (from matplotlib) (2.8.2)\n",
            "Requirement already satisfied: pyparsing!=2.0.4,!=2.1.2,!=2.1.6,>=2.0.1 in /usr/local/lib/python3.8/dist-packages (from matplotlib) (3.0.9)\n",
            "Requirement already satisfied: six>=1.5 in /usr/local/lib/python3.8/dist-packages (from python-dateutil>=2.1->matplotlib) (1.15.0)\n",
            "Looking in indexes: https://pypi.org/simple, https://us-python.pkg.dev/colab-wheels/public/simple/\n",
            "Requirement already satisfied: nltk in /usr/local/lib/python3.8/dist-packages (3.7)\n",
            "Requirement already satisfied: regex>=2021.8.3 in /usr/local/lib/python3.8/dist-packages (from nltk) (2022.6.2)\n",
            "Requirement already satisfied: tqdm in /usr/local/lib/python3.8/dist-packages (from nltk) (4.64.1)\n",
            "Requirement already satisfied: click in /usr/local/lib/python3.8/dist-packages (from nltk) (7.1.2)\n",
            "Requirement already satisfied: joblib in /usr/local/lib/python3.8/dist-packages (from nltk) (1.2.0)\n"
          ]
        }
      ],
      "source": [
        "!pip install pythainlp\n",
        "!pip install pandas\n",
        "!pip install numpy\n",
        "!pip install scikit-learn\n",
        "!pip install matplotlib\n",
        "!pip install nltk"
      ]
    },
    {
      "cell_type": "code",
      "source": [
        "from pythainlp.tokenize import word_tokenize\n",
        "from pythainlp.corpus import thai_stopwords\n",
        "import pandas as pd\n",
        "import numpy as np\n",
        "import string\n",
        "import nltk\n",
        "nltk.download('stopwords')"
      ],
      "metadata": {
        "id": "SJIA1idDmJAx",
        "colab": {
          "base_uri": "https://localhost:8080/"
        },
        "outputId": "6ae64d2f-3ba7-4bfa-c4e2-539550428aaa"
      },
      "execution_count": 294,
      "outputs": [
        {
          "output_type": "stream",
          "name": "stderr",
          "text": [
            "[nltk_data] Downloading package stopwords to /root/nltk_data...\n",
            "[nltk_data]   Package stopwords is already up-to-date!\n"
          ]
        },
        {
          "output_type": "execute_result",
          "data": {
            "text/plain": [
              "True"
            ]
          },
          "metadata": {},
          "execution_count": 294
        }
      ]
    },
    {
      "cell_type": "code",
      "source": [
        "from google.colab import drive\n",
        "drive.mount('/content/drive')"
      ],
      "metadata": {
        "id": "H4Wdogr2mE_9",
        "colab": {
          "base_uri": "https://localhost:8080/"
        },
        "outputId": "51a73a84-0cd3-4084-a2d7-22fcd9a6b5a4"
      },
      "execution_count": 295,
      "outputs": [
        {
          "output_type": "stream",
          "name": "stdout",
          "text": [
            "Drive already mounted at /content/drive; to attempt to forcibly remount, call drive.mount(\"/content/drive\", force_remount=True).\n"
          ]
        }
      ]
    },
    {
      "cell_type": "code",
      "source": [
        "data = '/content/drive/MyDrive/Final_project/clean_data/combine_company.csv'"
      ],
      "metadata": {
        "id": "X7gCDuJImGdo"
      },
      "execution_count": 296,
      "outputs": []
    },
    {
      "cell_type": "code",
      "source": [
        "df = pd.read_csv(data)"
      ],
      "metadata": {
        "id": "0IsQVMHhmKUK"
      },
      "execution_count": 371,
      "outputs": []
    },
    {
      "cell_type": "code",
      "source": [
        "th_stopword = list(thai_stopwords())\n",
        "eng_stopword = nltk.corpus.stopwords.words('english')\n",
        "list_company_detail = []\n",
        "th_number = ['๑','๒','๓','๔','๕','๖','๗','๘','๙','๐']\n",
        "\n",
        "def clean_string(text:str) -> str:\n",
        "    clean_token = text\n",
        "    for pair in (('\\n', ''), ('\\t', ''), ('!', '')):\n",
        "        clean_token =clean_token.replace(*pair)\n",
        "\n",
        "    clean_token = clean_token.translate(str.maketrans('','',string.punctuation))\n",
        "    clean_token = str(clean_token).translate(str.maketrans('','',string.digits))\n",
        "    return clean_token\n",
        "\n",
        "def clean_stopword(token:list) -> list:\n",
        "    temp = []\n",
        "    for i in token:\n",
        "        if i not in th_stopword and i not in eng_stopword and i not in th_number:\n",
        "            temp.append(i)\n",
        "    return temp\n",
        "\n",
        "for i in range(len(df)):\n",
        "    sample = clean_string(str(df.iloc[i]['รายละเอียดธุรกิจ']).lower())\n",
        "    text_cleaned = clean_stopword(word_tokenize(sample, None, 'newmm', False))\n",
        "    list_company_detail.append(text_cleaned)\n"
      ],
      "metadata": {
        "id": "jWX_0Km2MTcT"
      },
      "execution_count": 372,
      "outputs": []
    },
    {
      "cell_type": "markdown",
      "source": [
        "# หาค่า TF-IDF"
      ],
      "metadata": {
        "id": "WCGEC158mP5I"
      }
    },
    {
      "cell_type": "code",
      "source": [
        "from sklearn.feature_extraction.text import TfidfVectorizer"
      ],
      "metadata": {
        "id": "XziG_KA5mS_b"
      },
      "execution_count": 373,
      "outputs": []
    },
    {
      "cell_type": "code",
      "source": [
        "def identity_fun(text):\n",
        "    return text"
      ],
      "metadata": {
        "id": "goyHaUaanpRc"
      },
      "execution_count": 374,
      "outputs": []
    },
    {
      "cell_type": "code",
      "source": [
        "vectorizer = TfidfVectorizer(\n",
        "    analyzer='word',\n",
        "    tokenizer=identity_fun,\n",
        "    preprocessor=identity_fun,\n",
        "    token_pattern=None,\n",
        "    lowercase=True,\n",
        ")\n"
      ],
      "metadata": {
        "id": "5l2mqyasmWdq"
      },
      "execution_count": 375,
      "outputs": []
    },
    {
      "cell_type": "code",
      "source": [
        "# Train\n",
        "tfidf_vector = vectorizer.fit_transform(list_company_detail)\n",
        "tfidf_array = np.array(tfidf_vector.todense())\n",
        "df_tfidf = pd.DataFrame(tfidf_array, columns=vectorizer.get_feature_names_out())\n",
        "df_tfidf = df_tfidf.drop(df_tfidf.columns[[k for k in range(-15, 0, 1)]], axis = 1)"
      ],
      "metadata": {
        "id": "xqjcqoMTMcfv"
      },
      "execution_count": 376,
      "outputs": []
    },
    {
      "cell_type": "markdown",
      "source": [
        "# KMeans clustering"
      ],
      "metadata": {
        "id": "Cr9uBaSkmb3p"
      }
    },
    {
      "cell_type": "code",
      "source": [
        "from sklearn.cluster import KMeans\n",
        "from sklearn.decomposition import PCA\n",
        "from sklearn.preprocessing import StandardScaler"
      ],
      "metadata": {
        "id": "oCBrnmVQmfBj"
      },
      "execution_count": 377,
      "outputs": []
    },
    {
      "cell_type": "code",
      "source": [
        "X = df_tfidf\n",
        "scaler = StandardScaler()\n",
        "X = scaler.fit_transform(df_tfidf)\n",
        "\n",
        "# centroids\n",
        "pca = PCA(n_components=len(df_tfidf))\n",
        "pca_vecs = pca.fit_transform(df_tfidf)\n",
        "x_value = pca_vecs[:, 0]\n",
        "y_value = pca_vecs[:, 1]\n",
        "df_tfidf['x_value'] = x_value\n",
        "df_tfidf['y_value'] = y_value\n",
        "\n",
        "k = 7\n",
        "kmeans = KMeans(n_clusters=k, random_state=42, max_iter=len(df_tfidf), n_init=1)\n",
        "# # Fit model\n",
        "kmeans.fit(df_tfidf[['x_value', 'y_value']])\n",
        "clusters = kmeans.labels_\n",
        "df_tfidf['cluster'] = clusters"
      ],
      "metadata": {
        "id": "Hl0N-Mv0MmAO"
      },
      "execution_count": 378,
      "outputs": []
    },
    {
      "cell_type": "markdown",
      "source": [
        "#  Visualize the Clustering"
      ],
      "metadata": {
        "id": "Xk4mY2g9MxdI"
      }
    },
    {
      "cell_type": "code",
      "source": [
        "import matplotlib.pyplot as plt"
      ],
      "metadata": {
        "id": "W5F-0lIUMyUN"
      },
      "execution_count": 379,
      "outputs": []
    },
    {
      "cell_type": "code",
      "source": [
        "# set image size\n",
        "# plt.figure(figsize=(10, 5))\n",
        "# set a title\n",
        "plt.title(\"Group of companies\", fontdict={\"fontsize\": 18})\n",
        "# set axes names\n",
        "plt.xlabel(\"X\", fontdict={\"fontsize\": 16})\n",
        "plt.ylabel(\"Y\", fontdict={\"fontsize\": 16})\n",
        "# create scatter plot with seaborn, where hue is the class used to group the data\n",
        "plt.scatter(x_value, y_value, c=clusters, cmap=\"Set2\")\n",
        "\n",
        "centroids = kmeans.cluster_centers_\n",
        "# centroids\n",
        "plt.scatter(centroids[:,0], centroids[:,1], marker='x', c='red')\n",
        "# plt.show()\n",
        "plt.show()"
      ],
      "metadata": {
        "colab": {
          "base_uri": "https://localhost:8080/",
          "height": 304
        },
        "id": "Ln6zGJaxM0Ph",
        "outputId": "a798734d-7cc9-47bd-e97a-e517e15d889e"
      },
      "execution_count": 380,
      "outputs": [
        {
          "output_type": "display_data",
          "data": {
            "text/plain": [
              "<Figure size 432x288 with 1 Axes>"
            ],
            "image/png": "[encoded data removed]"
          },
          "metadata": {
            "needs_background": "light"
          }
        }
      ]
    },
    {
      "cell_type": "code",
      "source": [
        "group = []\n",
        "name = []\n",
        "for i in range(len(df)):\n",
        "  if df_tfidf.iloc[i]['cluster'] == 6:\n",
        "    group.append(df.iloc[i]['รายละเอียดธุรกิจ'])\n",
        "    name.append(df.iloc[i]['ชื่อย่อสถานประกอบการ'])\n",
        "\n",
        "sample = pd.DataFrame({\n",
        "    'name': name,\n",
        "    'detail': group\n",
        "}) \n",
        "\n",
        "cluster_list = {\n",
        "    0: \"Software\",\n",
        "    1: \"Online platform\",\n",
        "    2: \"Hardware\",\n",
        "    3: \"E-commerce\",\n",
        "    4: \"Design\",\n",
        "    5: \"AI\",\n",
        "    6: \"IT\"\n",
        "}\n",
        "\n",
        "sample"
      ],
      "metadata": {
        "colab": {
          "base_uri": "https://localhost:8080/",
          "height": 1018
        },
        "id": "IX3fra77cHWe",
        "outputId": "87651973-a069-4d5b-e8d5-4f92c8a9ea0b"
      },
      "execution_count": 395,
      "outputs": [
        {
          "output_type": "execute_result",
          "data": {
            "text/plain": [
              "                      name                                             detail\n",
              "0                 SellSuki  บริการ Platform ระบบบริหารจัดการการขายของออนไล...\n",
              "1                  onebyte  บริการ พัฒนาระบบสารบบสารสนเทศ Web Application,...\n",
              "2                   BeNeat  บริการ Platform Web Application และ Mobile App...\n",
              "3                M® MYBAND  บริการ Platform Web Application และ Mobile App...\n",
              "4                 ShopSpot  บริการ จัดหาระบบตลาดออนไลน์สำหรับการซื้อ-ขายขอ...\n",
              "..                     ...                                                ...\n",
              "207     Digital Life Trend  บริการรับสร้าง ดุแล บริหารจัดการโปรแกรมคอมพิวเ...\n",
              "208  HAMONIZ InterSoftware  บริการระบบเทคโนโลยีสารสนเทศ Web & Mobile Appli...\n",
              "209             MEDIABLITZ  บริการลักษณะ Digital Media Agency (Business an...\n",
              "210           data passion  บริการให้คำปรึกษา ออกแบบ และพัฒนาระบบเทคโนโลยี...\n",
              "211             MAGIC CODE  บริการจัดทำโปรแกรมคอมพิวเตอร์ตามวัตถุประสงค์ขอ...\n",
              "\n",
              "[212 rows x 2 columns]"
            ],
            "text/html": [
              "\n",
              "  <div id=\"df-596acff0-ea1d-4f16-b56c-53d157f76d56\">\n",
              "    <div class=\"colab-df-container\">\n",
              "      <div>\n",
              "<style scoped>\n",
              "    .dataframe tbody tr th:only-of-type {\n",
              "        vertical-align: middle;\n",
              "    }\n",
              "\n",
              "    .dataframe tbody tr th {\n",
              "        vertical-align: top;\n",
              "    }\n",
              "\n",
              "    .dataframe thead th {\n",
              "        text-align: right;\n",
              "    }\n",
              "</style>\n",
              "<table border=\"1\" class=\"dataframe\">\n",
              "  <thead>\n",
              "    <tr style=\"text-align: right;\">\n",
              "      <th></th>\n",
              "      <th>name</th>\n",
              "      <th>detail</th>\n",
              "    </tr>\n",
              "  </thead>\n",
              "  <tbody>\n",
              "    <tr>\n",
              "      <th>0</th>\n",
              "      <td>SellSuki</td>\n",
              "      <td>บริการ Platform ระบบบริหารจัดการการขายของออนไล...</td>\n",
              "    </tr>\n",
              "    <tr>\n",
              "      <th>1</th>\n",
              "      <td>onebyte</td>\n",
              "      <td>บริการ พัฒนาระบบสารบบสารสนเทศ Web Application,...</td>\n",
              "    </tr>\n",
              "    <tr>\n",
              "      <th>2</th>\n",
              "      <td>BeNeat</td>\n",
              "      <td>บริการ Platform Web Application และ Mobile App...</td>\n",
              "    </tr>\n",
              "    <tr>\n",
              "      <th>3</th>\n",
              "      <td>M® MYBAND</td>\n",
              "      <td>บริการ Platform Web Application และ Mobile App...</td>\n",
              "    </tr>\n",
              "    <tr>\n",
              "      <th>4</th>\n",
              "      <td>ShopSpot</td>\n",
              "      <td>บริการ จัดหาระบบตลาดออนไลน์สำหรับการซื้อ-ขายขอ...</td>\n",
              "    </tr>\n",
              "    <tr>\n",
              "      <th>...</th>\n",
              "      <td>...</td>\n",
              "      <td>...</td>\n",
              "    </tr>\n",
              "    <tr>\n",
              "      <th>207</th>\n",
              "      <td>Digital Life Trend</td>\n",
              "      <td>บริการรับสร้าง ดุแล บริหารจัดการโปรแกรมคอมพิวเ...</td>\n",
              "    </tr>\n",
              "    <tr>\n",
              "      <th>208</th>\n",
              "      <td>HAMONIZ InterSoftware</td>\n",
              "      <td>บริการระบบเทคโนโลยีสารสนเทศ Web &amp; Mobile Appli...</td>\n",
              "    </tr>\n",
              "    <tr>\n",
              "      <th>209</th>\n",
              "      <td>MEDIABLITZ</td>\n",
              "      <td>บริการลักษณะ Digital Media Agency (Business an...</td>\n",
              "    </tr>\n",
              "    <tr>\n",
              "      <th>210</th>\n",
              "      <td>data passion</td>\n",
              "      <td>บริการให้คำปรึกษา ออกแบบ และพัฒนาระบบเทคโนโลยี...</td>\n",
              "    </tr>\n",
              "    <tr>\n",
              "      <th>211</th>\n",
              "      <td>MAGIC CODE</td>\n",
              "      <td>บริการจัดทำโปรแกรมคอมพิวเตอร์ตามวัตถุประสงค์ขอ...</td>\n",
              "    </tr>\n",
              "  </tbody>\n",
              "</table>\n",
              "<p>212 rows × 2 columns</p>\n",
              "</div>\n",
              "      <button class=\"colab-df-convert\" onclick=\"convertToInteractive('df-596acff0-ea1d-4f16-b56c-53d157f76d56')\"\n",
              "              title=\"Convert this dataframe to an interactive table.\"\n",
              "              style=\"display:none;\">\n",
              "        \n",
              "  <svg xmlns=\"http://www.w3.org/2000/svg\" height=\"24px\"viewBox=\"0 0 24 24\"\n",
              "       width=\"24px\">\n",
              "    <path d=\"M0 0h24v24H0V0z\" fill=\"none\"/>\n",
              "    <path d=\"M18.56 5.44l.94 2.06.94-2.06 2.06-.94-2.06-.94-.94-2.06-.94 2.06-2.06.94zm-11 1L8.5 8.5l.94-2.06 2.06-.94-2.06-.94L8.5 2.5l-.94 2.06-2.06.94zm10 10l.94 2.06.94-2.06 2.06-.94-2.06-.94-.94-2.06-.94 2.06-2.06.94z\"/><path d=\"M17.41 7.96l-1.37-1.37c-.4-.4-.92-.59-1.43-.59-.52 0-1.04.2-1.43.59L10.3 9.45l-7.72 7.72c-.78.78-.78 2.05 0 2.83L4 21.41c.39.39.9.59 1.41.59.51 0 1.02-.2 1.41-.59l7.78-7.78 2.81-2.81c.8-.78.8-2.07 0-2.86zM5.41 20L4 18.59l7.72-7.72 1.47 1.35L5.41 20z\"/>\n",
              "  </svg>\n",
              "      </button>\n",
              "      \n",
              "  <style>\n",
              "    .colab-df-container {\n",
              "      display:flex;\n",
              "      flex-wrap:wrap;\n",
              "      gap: 12px;\n",
              "    }\n",
              "\n",
              "    .colab-df-convert {\n",
              "      background-color: #E8F0FE;\n",
              "      border: none;\n",
              "      border-radius: 50%;\n",
              "      cursor: pointer;\n",
              "      display: none;\n",
              "      fill: #1967D2;\n",
              "      height: 32px;\n",
              "      padding: 0 0 0 0;\n",
              "      width: 32px;\n",
              "    }\n",
              "\n",
              "    .colab-df-convert:hover {\n",
              "      background-color: #E2EBFA;\n",
              "      box-shadow: 0px 1px 2px rgba(60, 64, 67, 0.3), 0px 1px 3px 1px rgba(60, 64, 67, 0.15);\n",
              "      fill: #174EA6;\n",
              "    }\n",
              "\n",
              "    [theme=dark] .colab-df-convert {\n",
              "      background-color: #3B4455;\n",
              "      fill: #D2E3FC;\n",
              "    }\n",
              "\n",
              "    [theme=dark] .colab-df-convert:hover {\n",
              "      background-color: #434B5C;\n",
              "      box-shadow: 0px 1px 3px 1px rgba(0, 0, 0, 0.15);\n",
              "      filter: drop-shadow(0px 1px 2px rgba(0, 0, 0, 0.3));\n",
              "      fill: #FFFFFF;\n",
              "    }\n",
              "  </style>\n",
              "\n",
              "      <script>\n",
              "        const buttonEl =\n",
              "          document.querySelector('#df-596acff0-ea1d-4f16-b56c-53d157f76d56 button.colab-df-convert');\n",
              "        buttonEl.style.display =\n",
              "          google.colab.kernel.accessAllowed ? 'block' : 'none';\n",
              "\n",
              "        async function convertToInteractive(key) {\n",
              "          const element = document.querySelector('#df-596acff0-ea1d-4f16-b56c-53d157f76d56');\n",
              "          const dataTable =\n",
              "            await google.colab.kernel.invokeFunction('convertToInteractive',\n",
              "                                                     [key], {});\n",
              "          if (!dataTable) return;\n",
              "\n",
              "          const docLinkHtml = 'Like what you see? Visit the ' +\n",
              "            '<a target=\"_blank\" href=https://colab.research.google.com/notebooks/data_table.ipynb>data table notebook</a>'\n",
              "            + ' to learn more about interactive tables.';\n",
              "          element.innerHTML = '';\n",
              "          dataTable['output_type'] = 'display_data';\n",
              "          await google.colab.output.renderOutput(dataTable, element);\n",
              "          const docLink = document.createElement('div');\n",
              "          docLink.innerHTML = docLinkHtml;\n",
              "          element.appendChild(docLink);\n",
              "        }\n",
              "      </script>\n",
              "    </div>\n",
              "  </div>\n",
              "  "
            ]
          },
          "metadata": {},
          "execution_count": 395
        }
      ]
    }
  ]
}