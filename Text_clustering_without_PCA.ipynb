{
  "nbformat": 4,
  "nbformat_minor": 0,
  "metadata": {
    "colab": {
      "provenance": []
    },
    "kernelspec": {
      "name": "python3",
      "display_name": "Python 3"
    },
    "language_info": {
      "name": "python"
    }
  },
  "cells": [
    {
      "cell_type": "markdown",
      "source": [
        "ref: https://youtu.be/H9OmsD7F7p0"
      ],
      "metadata": {
        "id": "G5YxaAzgl-6c"
      }
    },
    {
      "cell_type": "code",
      "execution_count": 112,
      "metadata": {
        "colab": {
          "base_uri": "https://localhost:8080/"
        },
        "id": "ZWZivjELl8Lr",
        "outputId": "83c23437-4c97-4c49-e5d7-372dce09d086"
      },
      "outputs": [
        {
          "output_type": "stream",
          "name": "stdout",
          "text": [
            "Looking in indexes: https://pypi.org/simple, https://us-python.pkg.dev/colab-wheels/public/simple/\n",
            "Requirement already satisfied: pythainlp in /usr/local/lib/python3.8/dist-packages (3.1.1)\n",
            "Requirement already satisfied: requests>=2.22.0 in /usr/local/lib/python3.8/dist-packages (from pythainlp) (2.23.0)\n",
            "Requirement already satisfied: urllib3!=1.25.0,!=1.25.1,<1.26,>=1.21.1 in /usr/local/lib/python3.8/dist-packages (from requests>=2.22.0->pythainlp) (1.24.3)\n",
            "Requirement already satisfied: idna<3,>=2.5 in /usr/local/lib/python3.8/dist-packages (from requests>=2.22.0->pythainlp) (2.10)\n",
            "Requirement already satisfied: chardet<4,>=3.0.2 in /usr/local/lib/python3.8/dist-packages (from requests>=2.22.0->pythainlp) (3.0.4)\n",
            "Requirement already satisfied: certifi>=2017.4.17 in /usr/local/lib/python3.8/dist-packages (from requests>=2.22.0->pythainlp) (2022.9.24)\n",
            "Looking in indexes: https://pypi.org/simple, https://us-python.pkg.dev/colab-wheels/public/simple/\n",
            "Requirement already satisfied: pandas in /usr/local/lib/python3.8/dist-packages (1.3.5)\n",
            "Requirement already satisfied: pytz>=2017.3 in /usr/local/lib/python3.8/dist-packages (from pandas) (2022.6)\n",
            "Requirement already satisfied: numpy>=1.17.3 in /usr/local/lib/python3.8/dist-packages (from pandas) (1.21.6)\n",
            "Requirement already satisfied: python-dateutil>=2.7.3 in /usr/local/lib/python3.8/dist-packages (from pandas) (2.8.2)\n",
            "Requirement already satisfied: six>=1.5 in /usr/local/lib/python3.8/dist-packages (from python-dateutil>=2.7.3->pandas) (1.15.0)\n",
            "Looking in indexes: https://pypi.org/simple, https://us-python.pkg.dev/colab-wheels/public/simple/\n",
            "Requirement already satisfied: numpy in /usr/local/lib/python3.8/dist-packages (1.21.6)\n",
            "Looking in indexes: https://pypi.org/simple, https://us-python.pkg.dev/colab-wheels/public/simple/\n",
            "Requirement already satisfied: scikit-learn in /usr/local/lib/python3.8/dist-packages (1.0.2)\n",
            "Requirement already satisfied: joblib>=0.11 in /usr/local/lib/python3.8/dist-packages (from scikit-learn) (1.2.0)\n",
            "Requirement already satisfied: threadpoolctl>=2.0.0 in /usr/local/lib/python3.8/dist-packages (from scikit-learn) (3.1.0)\n",
            "Requirement already satisfied: numpy>=1.14.6 in /usr/local/lib/python3.8/dist-packages (from scikit-learn) (1.21.6)\n",
            "Requirement already satisfied: scipy>=1.1.0 in /usr/local/lib/python3.8/dist-packages (from scikit-learn) (1.7.3)\n",
            "Looking in indexes: https://pypi.org/simple, https://us-python.pkg.dev/colab-wheels/public/simple/\n",
            "Requirement already satisfied: matplotlib in /usr/local/lib/python3.8/dist-packages (3.2.2)\n",
            "Requirement already satisfied: pyparsing!=2.0.4,!=2.1.2,!=2.1.6,>=2.0.1 in /usr/local/lib/python3.8/dist-packages (from matplotlib) (3.0.9)\n",
            "Requirement already satisfied: cycler>=0.10 in /usr/local/lib/python3.8/dist-packages (from matplotlib) (0.11.0)\n",
            "Requirement already satisfied: numpy>=1.11 in /usr/local/lib/python3.8/dist-packages (from matplotlib) (1.21.6)\n",
            "Requirement already satisfied: kiwisolver>=1.0.1 in /usr/local/lib/python3.8/dist-packages (from matplotlib) (1.4.4)\n",
            "Requirement already satisfied: python-dateutil>=2.1 in /usr/local/lib/python3.8/dist-packages (from matplotlib) (2.8.2)\n",
            "Requirement already satisfied: six>=1.5 in /usr/local/lib/python3.8/dist-packages (from python-dateutil>=2.1->matplotlib) (1.15.0)\n",
            "Looking in indexes: https://pypi.org/simple, https://us-python.pkg.dev/colab-wheels/public/simple/\n",
            "Requirement already satisfied: seaborn in /usr/local/lib/python3.8/dist-packages (0.11.2)\n",
            "Requirement already satisfied: matplotlib>=2.2 in /usr/local/lib/python3.8/dist-packages (from seaborn) (3.2.2)\n",
            "Requirement already satisfied: scipy>=1.0 in /usr/local/lib/python3.8/dist-packages (from seaborn) (1.7.3)\n",
            "Requirement already satisfied: pandas>=0.23 in /usr/local/lib/python3.8/dist-packages (from seaborn) (1.3.5)\n",
            "Requirement already satisfied: numpy>=1.15 in /usr/local/lib/python3.8/dist-packages (from seaborn) (1.21.6)\n",
            "Requirement already satisfied: cycler>=0.10 in /usr/local/lib/python3.8/dist-packages (from matplotlib>=2.2->seaborn) (0.11.0)\n",
            "Requirement already satisfied: pyparsing!=2.0.4,!=2.1.2,!=2.1.6,>=2.0.1 in /usr/local/lib/python3.8/dist-packages (from matplotlib>=2.2->seaborn) (3.0.9)\n",
            "Requirement already satisfied: python-dateutil>=2.1 in /usr/local/lib/python3.8/dist-packages (from matplotlib>=2.2->seaborn) (2.8.2)\n",
            "Requirement already satisfied: kiwisolver>=1.0.1 in /usr/local/lib/python3.8/dist-packages (from matplotlib>=2.2->seaborn) (1.4.4)\n",
            "Requirement already satisfied: pytz>=2017.3 in /usr/local/lib/python3.8/dist-packages (from pandas>=0.23->seaborn) (2022.6)\n",
            "Requirement already satisfied: six>=1.5 in /usr/local/lib/python3.8/dist-packages (from python-dateutil>=2.1->matplotlib>=2.2->seaborn) (1.15.0)\n"
          ]
        }
      ],
      "source": [
        "!pip install pythainlp\n",
        "!pip install pandas\n",
        "!pip install numpy\n",
        "!pip install scikit-learn\n",
        "!pip install matplotlib\n",
        "!pip install seaborn"
      ]
    },
    {
      "cell_type": "code",
      "source": [
        "from google.colab import drive\n",
        "drive.mount('/content/drive')"
      ],
      "metadata": {
        "colab": {
          "base_uri": "https://localhost:8080/"
        },
        "id": "H4Wdogr2mE_9",
        "outputId": "4c842f3a-f0e0-401a-ce8e-44ad7c63a0d1"
      },
      "execution_count": 113,
      "outputs": [
        {
          "output_type": "stream",
          "name": "stdout",
          "text": [
            "Drive already mounted at /content/drive; to attempt to forcibly remount, call drive.mount(\"/content/drive\", force_remount=True).\n"
          ]
        }
      ]
    },
    {
      "cell_type": "code",
      "source": [
        "data = '/content/drive/MyDrive/Final_project/clean_data/combine_company.csv'"
      ],
      "metadata": {
        "id": "X7gCDuJImGdo"
      },
      "execution_count": 114,
      "outputs": []
    },
    {
      "cell_type": "code",
      "source": [
        "import pandas as pd\n",
        "import numpy as np\n",
        "from pythainlp.corpus import thai_stopwords\n",
        "import matplotlib.pyplot as plt\n",
        "import seaborn as sns\n",
        "%matplotlib inline"
      ],
      "metadata": {
        "id": "SJIA1idDmJAx"
      },
      "execution_count": 115,
      "outputs": []
    },
    {
      "cell_type": "code",
      "source": [
        "df = pd.read_csv(data)\n",
        "frozen_stopword = thai_stopwords()"
      ],
      "metadata": {
        "id": "0IsQVMHhmKUK"
      },
      "execution_count": 292,
      "outputs": []
    },
    {
      "cell_type": "code",
      "source": [
        "# Clean stop word and special charater\n",
        "import string\n",
        "from pythainlp.tokenize import word_tokenize\n",
        "import nltk\n",
        "nltk.download('stopwords')\n",
        "from nltk.corpus import stopwords\n",
        "\n",
        "english_stopword = stopwords.words('english')\n",
        "thai_stopword = list(frozen_stopword)\n",
        "\n",
        "def clean_tokenize(rec_text:str) -> list:\n",
        "  clean_token = rec_text\n",
        "  for pair in (('\\n', ''), ('\\t', ''), ('!', '')):\n",
        "        clean_token =clean_token.replace(*pair)\n",
        "  \n",
        "  temp_tokenize = word_tokenize(clean_token, None, 'newmm', False)\n",
        "  return temp_tokenize\n",
        "\n",
        "def clean_stopword(word:list):\n",
        "  temp_thai = []\n",
        "  temp_eng = []\n",
        "  for i in word:\n",
        "    if i not in thai_stopword:\n",
        "      temp_thai.append(i)\n",
        "  \n",
        "  for j in temp_thai:\n",
        "    if j not in english_stopword:\n",
        "      temp_eng.append(j)\n",
        "    \n",
        "  return temp_eng"
      ],
      "metadata": {
        "colab": {
          "base_uri": "https://localhost:8080/"
        },
        "id": "W4jbHTA_mLpe",
        "outputId": "1114168f-5b9c-4323-f45d-2b8ec80a97fb"
      },
      "execution_count": 117,
      "outputs": [
        {
          "output_type": "stream",
          "name": "stderr",
          "text": [
            "[nltk_data] Downloading package stopwords to /root/nltk_data...\n",
            "[nltk_data]   Package stopwords is already up-to-date!\n"
          ]
        }
      ]
    },
    {
      "cell_type": "code",
      "source": [
        "# List company detail\n",
        "\"\"\"\n",
        "  ตัดรายละเอียดธุรกิจเป็นคำๆ แล้วใส่ในตัวแปร list_company_detail\n",
        "\"\"\"\n",
        "\n",
        "list_company_detail = []\n",
        "for i in range(len(df)):\n",
        "  detail = df.iloc[i]['รายละเอียดธุรกิจ'].lower()\n",
        "  a = detail.translate(str.maketrans('','', string.punctuation))\n",
        "  b = a.translate(str.maketrans('','', string.digits))\n",
        "  temp_comp = clean_tokenize(b)\n",
        "  stopword_cleaned = clean_stopword(temp_comp)\n",
        "  list_company_detail.append(stopword_cleaned)"
      ],
      "metadata": {
        "id": "RuyppRwxmNcG"
      },
      "execution_count": 203,
      "outputs": []
    },
    {
      "cell_type": "markdown",
      "source": [
        "# หาค่า TF-IDF"
      ],
      "metadata": {
        "id": "WCGEC158mP5I"
      }
    },
    {
      "cell_type": "code",
      "source": [
        "from sklearn.feature_extraction.text import TfidfVectorizer"
      ],
      "metadata": {
        "id": "XziG_KA5mS_b"
      },
      "execution_count": 204,
      "outputs": []
    },
    {
      "cell_type": "code",
      "source": [
        "def identity_fun(text):\n",
        "    return text"
      ],
      "metadata": {
        "id": "goyHaUaanpRc"
      },
      "execution_count": 205,
      "outputs": []
    },
    {
      "cell_type": "code",
      "source": [
        "tfidf_vectorizer = TfidfVectorizer(\n",
        "    stop_words='english',\n",
        "    analyzer='word',\n",
        "    tokenizer=identity_fun,\n",
        "    preprocessor=identity_fun,\n",
        "    token_pattern=None\n",
        ")\n",
        "\n",
        "X = tfidf_vectorizer.fit_transform(list_company_detail)"
      ],
      "metadata": {
        "colab": {
          "base_uri": "https://localhost:8080/"
        },
        "id": "5l2mqyasmWdq",
        "outputId": "ecdc1a1e-2ca4-4913-8c0f-837f4ec6981a"
      },
      "execution_count": 293,
      "outputs": [
        {
          "output_type": "stream",
          "name": "stderr",
          "text": [
            "/usr/local/lib/python3.8/dist-packages/sklearn/feature_extraction/text.py:396: UserWarning: Your stop_words may be inconsistent with your preprocessing. Tokenizing the stop words generated tokens ['b', 'c', 'd', 'e', 'f', 'g', 'h', 'k', 'l', 'm', 'n', 'o', 'p', 'r', 's', 't', 'u', 'v', 'w', 'x', 'y'] not in stop_words.\n",
            "  warnings.warn(\n"
          ]
        }
      ]
    },
    {
      "cell_type": "markdown",
      "source": [
        "# KMeans clustering"
      ],
      "metadata": {
        "id": "Cr9uBaSkmb3p"
      }
    },
    {
      "cell_type": "code",
      "source": [
        "from sklearn.cluster import KMeans\n",
        "k = 10\n",
        "km = KMeans(n_clusters=k)\n",
        "km.fit(X)\n",
        "centroid = km.cluster_centers_\n",
        "cluster = km.labels_\n",
        "df['cluster'] = cluster"
      ],
      "metadata": {
        "id": "oCBrnmVQmfBj"
      },
      "execution_count": 294,
      "outputs": []
    },
    {
      "cell_type": "code",
      "source": [
        "import random\n",
        "temp_cluster = []\n",
        "for i in range(len(df)):\n",
        "  ind = random.randint(0, len(df)-1)\n",
        "  if df.iloc[ind]['cluster'] == 8 and len(temp_cluster) < 10:\n",
        "    temp_cluster.append([df.iloc[ind]['ชื่อย่อสถานประกอบการ'], df.iloc[ind]['รายละเอียดธุรกิจ']])\n",
        "\n",
        "\n",
        "for k in temp_cluster:\n",
        "  print(k[0])\n",
        "  print(k[1])\n",
        "  print()"
      ],
      "metadata": {
        "id": "phMSUFkeQP46"
      },
      "execution_count": null,
      "outputs": []
    },
    {
      "cell_type": "code",
      "source": [
        "cluster_map = {\n",
        "    0: \"ERP Solution / Accounting\",\n",
        "    1: \"Designer / Multimedia\",\n",
        "    2: \"IT / Infrastructure\",\n",
        "    3: \"Hardware / Cloud\",\n",
        "    4: \"Software Development\",\n",
        "    5: \"Biometrics\",\n",
        "    6: \"*AI / IT / VR / Digital solution\",\n",
        "    7: \"Website\",\n",
        "    8: \"Online Platform\",\n",
        "    9: \"Digital Marketing / SEO\"\n",
        "}\n",
        "\n",
        "# apply mapping\n",
        "df['cluster'] = df['cluster'].map(cluster_map)"
      ],
      "metadata": {
        "id": "1t_R6PEZqK3o"
      },
      "execution_count": 295,
      "outputs": []
    },
    {
      "cell_type": "code",
      "source": [
        "import random\n",
        "for i in range(5):\n",
        "  ind_sample = random.randint(0, len(df))\n",
        "  print(f'{df.iloc[ind_sample][\"ชื่อย่อสถานประกอบการ\"]}')\n",
        "  print(df.iloc[ind_sample]['รายละเอียดธุรกิจ'])\n",
        "  print(f'cluster label: {cluster[ind_sample]}')\n",
        "  print(f\"Category: {df.iloc[ind_sample]['cluster']}\")\n",
        "  print()"
      ],
      "metadata": {
        "colab": {
          "base_uri": "https://localhost:8080/"
        },
        "id": "NVR55tgMsLWp",
        "outputId": "b08573a9-f97c-45ec-b4de-a494be12dc19"
      },
      "execution_count": 299,
      "outputs": [
        {
          "output_type": "stream",
          "name": "stdout",
          "text": [
            "FD\n",
            "บริการ ออกแบบ พัฒนา ระบบเทคโนโลยีสารสนเทศ (Web & Mobile Development, Cloud Solution)\n",
            "cluster label: 2\n",
            "Category: IT / Infrastructure\n",
            "\n",
            "MYCLOUD FULFILLMENT\n",
            "บริการออกแบบและพัฒนาการให้บริการระบบคลังสินค้า และระบบจัดการออเดอร์สำหรับธุรกิจที่ขายสินค้าออนไลน์และขายหลายช่องทาง ผ่าน MYCLOUD fulfillment\n",
            "cluster label: 8\n",
            "Category: Online Platform\n",
            "\n",
            "INNOSPRINT\n",
            "บริการระบบขายตั๋วงานวิ่ง ปั่นจักรยาน และไตรกีฬา ทั้งระบบขายตั๋วออนไลน์, ระบบแจก Race Pack และระบบจับเวลา เจ้าของเว็บไซต์ RunLah.com\n",
            "cluster label: 8\n",
            "Category: Online Platform\n",
            "\n",
            "ABSC\n",
            "บริการออกแบบจัดหาพัฒนาระบบซอฟต์แวร์แบบครบวงจร (Oracle/Non Oracle application, financial, distributions, manufacturing (discrete & process manufacturing), CRM balanced scored card and business intelligence (BI) application implementation and consulting services)\n",
            "cluster label: 7\n",
            "Category: Website\n",
            "\n",
            "BIG DATA\n",
            "บริการพัฒนา ดูแลระบบซอฟต์แวร์ฮาร์ดแวร์ และบำรุงรักษาระบบการสอบสวนสืบสวนและพิสูจน์หลักฐาน (CCTV Solution, Business Process Management Software, Image Processing Software, Biometric Software, Thermal Gate Hardware)\n",
            "cluster label: 7\n",
            "Category: Website\n",
            "\n"
          ]
        }
      ]
    },
    {
      "cell_type": "code",
      "source": [
        "import collections\n",
        "counter = collections.Counter(df['cluster'])\n",
        "counter"
      ],
      "metadata": {
        "colab": {
          "base_uri": "https://localhost:8080/"
        },
        "id": "r-89CRdO40E4",
        "outputId": "db51a46a-ac16-4282-9e94-e705dfcc02de"
      },
      "execution_count": 301,
      "outputs": [
        {
          "output_type": "execute_result",
          "data": {
            "text/plain": [
              "Counter({'Designer / Multimedia': 443,\n",
              "         'Online Platform': 181,\n",
              "         'Biometrics': 94,\n",
              "         'IT / Infrastructure': 125,\n",
              "         'Software Development': 321,\n",
              "         'ERP Solution / Accounting': 126,\n",
              "         'Website': 167,\n",
              "         'Digital Marketing / SEO': 81,\n",
              "         '*AI / IT / VR / Digital solution': 77,\n",
              "         'Hardware / Cloud': 28})"
            ]
          },
          "metadata": {},
          "execution_count": 301
        }
      ]
    }
  ]
}