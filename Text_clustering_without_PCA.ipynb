{
  "nbformat": 4,
  "nbformat_minor": 0,
  "metadata": {
    "colab": {
      "provenance": []
    },
    "kernelspec": {
      "name": "python3",
      "display_name": "Python 3"
    },
    "language_info": {
      "name": "python"
    }
  },
  "cells": [
    {
      "cell_type": "markdown",
      "source": [
        "ref: https://youtu.be/H9OmsD7F7p0"
      ],
      "metadata": {
        "id": "G5YxaAzgl-6c"
      }
    },
    {
      "cell_type": "code",
      "execution_count": 1,
      "metadata": {
        "colab": {
          "base_uri": "https://localhost:8080/"
        },
        "id": "ZWZivjELl8Lr",
        "outputId": "ad1a8972-48fa-4606-b00e-3a2d1cc47a36"
      },
      "outputs": [
        {
          "output_type": "stream",
          "name": "stdout",
          "text": [
            "Looking in indexes: https://pypi.org/simple, https://us-python.pkg.dev/colab-wheels/public/simple/\n",
            "Collecting pythainlp\n",
            "  Downloading pythainlp-3.1.1-py3-none-any.whl (9.6 MB)\n",
            "\u001b[K     |████████████████████████████████| 9.6 MB 19.2 MB/s \n",
            "\u001b[?25hRequirement already satisfied: requests>=2.22.0 in /usr/local/lib/python3.8/dist-packages (from pythainlp) (2.23.0)\n",
            "Requirement already satisfied: certifi>=2017.4.17 in /usr/local/lib/python3.8/dist-packages (from requests>=2.22.0->pythainlp) (2022.9.24)\n",
            "Requirement already satisfied: idna<3,>=2.5 in /usr/local/lib/python3.8/dist-packages (from requests>=2.22.0->pythainlp) (2.10)\n",
            "Requirement already satisfied: urllib3!=1.25.0,!=1.25.1,<1.26,>=1.21.1 in /usr/local/lib/python3.8/dist-packages (from requests>=2.22.0->pythainlp) (1.24.3)\n",
            "Requirement already satisfied: chardet<4,>=3.0.2 in /usr/local/lib/python3.8/dist-packages (from requests>=2.22.0->pythainlp) (3.0.4)\n",
            "Installing collected packages: pythainlp\n",
            "Successfully installed pythainlp-3.1.1\n",
            "Looking in indexes: https://pypi.org/simple, https://us-python.pkg.dev/colab-wheels/public/simple/\n",
            "Requirement already satisfied: pandas in /usr/local/lib/python3.8/dist-packages (1.3.5)\n",
            "Requirement already satisfied: python-dateutil>=2.7.3 in /usr/local/lib/python3.8/dist-packages (from pandas) (2.8.2)\n",
            "Requirement already satisfied: numpy>=1.17.3 in /usr/local/lib/python3.8/dist-packages (from pandas) (1.21.6)\n",
            "Requirement already satisfied: pytz>=2017.3 in /usr/local/lib/python3.8/dist-packages (from pandas) (2022.6)\n",
            "Requirement already satisfied: six>=1.5 in /usr/local/lib/python3.8/dist-packages (from python-dateutil>=2.7.3->pandas) (1.15.0)\n",
            "Looking in indexes: https://pypi.org/simple, https://us-python.pkg.dev/colab-wheels/public/simple/\n",
            "Requirement already satisfied: numpy in /usr/local/lib/python3.8/dist-packages (1.21.6)\n",
            "Looking in indexes: https://pypi.org/simple, https://us-python.pkg.dev/colab-wheels/public/simple/\n",
            "Requirement already satisfied: scikit-learn in /usr/local/lib/python3.8/dist-packages (1.0.2)\n",
            "Requirement already satisfied: joblib>=0.11 in /usr/local/lib/python3.8/dist-packages (from scikit-learn) (1.2.0)\n",
            "Requirement already satisfied: scipy>=1.1.0 in /usr/local/lib/python3.8/dist-packages (from scikit-learn) (1.7.3)\n",
            "Requirement already satisfied: numpy>=1.14.6 in /usr/local/lib/python3.8/dist-packages (from scikit-learn) (1.21.6)\n",
            "Requirement already satisfied: threadpoolctl>=2.0.0 in /usr/local/lib/python3.8/dist-packages (from scikit-learn) (3.1.0)\n",
            "Looking in indexes: https://pypi.org/simple, https://us-python.pkg.dev/colab-wheels/public/simple/\n",
            "Requirement already satisfied: matplotlib in /usr/local/lib/python3.8/dist-packages (3.2.2)\n",
            "Requirement already satisfied: pyparsing!=2.0.4,!=2.1.2,!=2.1.6,>=2.0.1 in /usr/local/lib/python3.8/dist-packages (from matplotlib) (3.0.9)\n",
            "Requirement already satisfied: cycler>=0.10 in /usr/local/lib/python3.8/dist-packages (from matplotlib) (0.11.0)\n",
            "Requirement already satisfied: numpy>=1.11 in /usr/local/lib/python3.8/dist-packages (from matplotlib) (1.21.6)\n",
            "Requirement already satisfied: kiwisolver>=1.0.1 in /usr/local/lib/python3.8/dist-packages (from matplotlib) (1.4.4)\n",
            "Requirement already satisfied: python-dateutil>=2.1 in /usr/local/lib/python3.8/dist-packages (from matplotlib) (2.8.2)\n",
            "Requirement already satisfied: six>=1.5 in /usr/local/lib/python3.8/dist-packages (from python-dateutil>=2.1->matplotlib) (1.15.0)\n",
            "Looking in indexes: https://pypi.org/simple, https://us-python.pkg.dev/colab-wheels/public/simple/\n",
            "Requirement already satisfied: seaborn in /usr/local/lib/python3.8/dist-packages (0.11.2)\n",
            "Requirement already satisfied: numpy>=1.15 in /usr/local/lib/python3.8/dist-packages (from seaborn) (1.21.6)\n",
            "Requirement already satisfied: matplotlib>=2.2 in /usr/local/lib/python3.8/dist-packages (from seaborn) (3.2.2)\n",
            "Requirement already satisfied: scipy>=1.0 in /usr/local/lib/python3.8/dist-packages (from seaborn) (1.7.3)\n",
            "Requirement already satisfied: pandas>=0.23 in /usr/local/lib/python3.8/dist-packages (from seaborn) (1.3.5)\n",
            "Requirement already satisfied: cycler>=0.10 in /usr/local/lib/python3.8/dist-packages (from matplotlib>=2.2->seaborn) (0.11.0)\n",
            "Requirement already satisfied: python-dateutil>=2.1 in /usr/local/lib/python3.8/dist-packages (from matplotlib>=2.2->seaborn) (2.8.2)\n",
            "Requirement already satisfied: kiwisolver>=1.0.1 in /usr/local/lib/python3.8/dist-packages (from matplotlib>=2.2->seaborn) (1.4.4)\n",
            "Requirement already satisfied: pyparsing!=2.0.4,!=2.1.2,!=2.1.6,>=2.0.1 in /usr/local/lib/python3.8/dist-packages (from matplotlib>=2.2->seaborn) (3.0.9)\n",
            "Requirement already satisfied: pytz>=2017.3 in /usr/local/lib/python3.8/dist-packages (from pandas>=0.23->seaborn) (2022.6)\n",
            "Requirement already satisfied: six>=1.5 in /usr/local/lib/python3.8/dist-packages (from python-dateutil>=2.1->matplotlib>=2.2->seaborn) (1.15.0)\n"
          ]
        }
      ],
      "source": [
        "!pip install pythainlp\n",
        "!pip install pandas\n",
        "!pip install numpy\n",
        "!pip install scikit-learn\n",
        "!pip install matplotlib\n",
        "!pip install seaborn"
      ]
    },
    {
      "cell_type": "code",
      "source": [
        "from google.colab import drive\n",
        "drive.mount('/content/drive')"
      ],
      "metadata": {
        "colab": {
          "base_uri": "https://localhost:8080/"
        },
        "id": "H4Wdogr2mE_9",
        "outputId": "2e239ba9-8d59-4a91-fabd-422dea2e2f61"
      },
      "execution_count": 2,
      "outputs": [
        {
          "output_type": "stream",
          "name": "stdout",
          "text": [
            "Mounted at /content/drive\n"
          ]
        }
      ]
    },
    {
      "cell_type": "code",
      "source": [
        "data = '/content/drive/MyDrive/Final_project/clean_data/combine_company.csv'"
      ],
      "metadata": {
        "id": "X7gCDuJImGdo"
      },
      "execution_count": 3,
      "outputs": []
    },
    {
      "cell_type": "code",
      "source": [
        "import pandas as pd\n",
        "import numpy as np\n",
        "from pythainlp.corpus import thai_stopwords\n",
        "import matplotlib.pyplot as plt\n",
        "import seaborn as sns\n",
        "%matplotlib inline"
      ],
      "metadata": {
        "id": "SJIA1idDmJAx"
      },
      "execution_count": 4,
      "outputs": []
    },
    {
      "cell_type": "code",
      "source": [
        "df = pd.read_csv(data)\n",
        "frozen_stopword = thai_stopwords()"
      ],
      "metadata": {
        "id": "0IsQVMHhmKUK"
      },
      "execution_count": 101,
      "outputs": []
    },
    {
      "cell_type": "code",
      "source": [
        "# Clean stop word and special charater\n",
        "import string\n",
        "from pythainlp.tokenize import word_tokenize\n",
        "import nltk\n",
        "nltk.download('stopwords')\n",
        "from nltk.corpus import stopwords\n",
        "\n",
        "english_stopword = stopwords.words('english')\n",
        "thai_stopword = list(frozen_stopword)\n",
        "\n",
        "def clean_tokenize(rec_text:str) -> list:\n",
        "  clean_token = rec_text\n",
        "  for pair in (('\\n', ''), ('\\t', ''), ('!', '')):\n",
        "        clean_token =clean_token.replace(*pair)\n",
        "  \n",
        "  temp_tokenize = word_tokenize(clean_token, None, 'newmm', False)\n",
        "  return temp_tokenize\n",
        "\n",
        "def clean_stopword(word:list):\n",
        "  temp_thai = []\n",
        "  temp_eng = []\n",
        "  for i in word:\n",
        "    if i not in thai_stopword:\n",
        "      temp_thai.append(i)\n",
        "  \n",
        "  for j in temp_thai:\n",
        "    if j not in english_stopword:\n",
        "      temp_eng.append(j)\n",
        "    \n",
        "  return temp_eng"
      ],
      "metadata": {
        "colab": {
          "base_uri": "https://localhost:8080/"
        },
        "id": "W4jbHTA_mLpe",
        "outputId": "d20b7c02-0037-4ec7-8fca-b038b4b8b73c"
      },
      "execution_count": 6,
      "outputs": [
        {
          "output_type": "stream",
          "name": "stderr",
          "text": [
            "[nltk_data] Downloading package stopwords to /root/nltk_data...\n",
            "[nltk_data]   Unzipping corpora/stopwords.zip.\n"
          ]
        }
      ]
    },
    {
      "cell_type": "code",
      "source": [
        "# List company detail\n",
        "\"\"\"\n",
        "  ตัดรายละเอียดธุรกิจเป็นคำๆ แล้วใส่ในตัวแปร list_company_detail\n",
        "\"\"\"\n",
        "\n",
        "list_company_detail = []\n",
        "for i in range(len(df)):\n",
        "  detail = df.iloc[i]['รายละเอียดธุรกิจ'].lower()\n",
        "  a = detail.translate(str.maketrans('','', string.punctuation))\n",
        "  b = a.translate(str.maketrans('','', string.digits))\n",
        "  temp_comp = clean_tokenize(b)\n",
        "  stopword_cleaned = clean_stopword(temp_comp)\n",
        "  list_company_detail.append(stopword_cleaned)"
      ],
      "metadata": {
        "id": "RuyppRwxmNcG"
      },
      "execution_count": 102,
      "outputs": []
    },
    {
      "cell_type": "markdown",
      "source": [
        "# หาค่า TF-IDF"
      ],
      "metadata": {
        "id": "WCGEC158mP5I"
      }
    },
    {
      "cell_type": "code",
      "source": [
        "from sklearn.feature_extraction.text import TfidfVectorizer"
      ],
      "metadata": {
        "id": "XziG_KA5mS_b"
      },
      "execution_count": 8,
      "outputs": []
    },
    {
      "cell_type": "code",
      "source": [
        "def identity_fun(text):\n",
        "    return text"
      ],
      "metadata": {
        "id": "goyHaUaanpRc"
      },
      "execution_count": 9,
      "outputs": []
    },
    {
      "cell_type": "code",
      "source": [
        "tfidf_vectorizer = TfidfVectorizer(\n",
        "    stop_words='english',\n",
        "    analyzer='word',\n",
        "    tokenizer=identity_fun,\n",
        "    preprocessor=identity_fun,\n",
        "    token_pattern=None\n",
        ")\n",
        "\n",
        "X = tfidf_vectorizer.fit_transform(list_company_detail)"
      ],
      "metadata": {
        "colab": {
          "base_uri": "https://localhost:8080/"
        },
        "id": "5l2mqyasmWdq",
        "outputId": "46ae5cb6-ad16-4f9c-87e8-b2d2582bd296"
      },
      "execution_count": 103,
      "outputs": [
        {
          "output_type": "stream",
          "name": "stderr",
          "text": [
            "/usr/local/lib/python3.8/dist-packages/sklearn/feature_extraction/text.py:396: UserWarning: Your stop_words may be inconsistent with your preprocessing. Tokenizing the stop words generated tokens ['b', 'c', 'd', 'e', 'f', 'g', 'h', 'k', 'l', 'm', 'n', 'o', 'p', 'r', 's', 't', 'u', 'v', 'w', 'x', 'y'] not in stop_words.\n",
            "  warnings.warn(\n"
          ]
        }
      ]
    },
    {
      "cell_type": "markdown",
      "source": [
        "# KMeans clustering"
      ],
      "metadata": {
        "id": "Cr9uBaSkmb3p"
      }
    },
    {
      "cell_type": "code",
      "source": [
        "from sklearn.cluster import KMeans\n",
        "k = 15\n",
        "km = KMeans(n_clusters=k)\n",
        "km.fit(X)\n",
        "centroid = km.cluster_centers_\n",
        "cluster = km.labels_\n",
        "df['cluster'] = cluster"
      ],
      "metadata": {
        "id": "oCBrnmVQmfBj"
      },
      "execution_count": 104,
      "outputs": []
    },
    {
      "cell_type": "code",
      "source": [
        "import random\n",
        "temp_cluster = []\n",
        "for i in range(len(df)):\n",
        "  ind = random.randint(0, len(df)-1)\n",
        "  temp = [df.iloc[ind]['ชื่อย่อสถานประกอบการ'], df.iloc[ind]['รายละเอียดธุรกิจ']]\n",
        "  if df.iloc[ind]['cluster'] == 0 and len(temp_cluster) < 10 and temp not in temp_cluster:\n",
        "    temp_cluster.append(temp)\n",
        "\n",
        "\n",
        "for k in temp_cluster:\n",
        "  print(k[0])\n",
        "  print(k[1])\n",
        "  print()"
      ],
      "metadata": {
        "colab": {
          "base_uri": "https://localhost:8080/"
        },
        "id": "phMSUFkeQP46",
        "outputId": "0ad6ebef-1363-4e79-fae7-4f65fe857cf6"
      },
      "execution_count": 127,
      "outputs": [
        {
          "output_type": "stream",
          "name": "stdout",
          "text": [
            "BPS\n",
            "บริการ e-payment and card technologies (Central Clearing House (CCH) Solutions, Automated Fare Collection (AFC) / e-Ticket Solutions, Card and Retail Payment Solutions, Payment Terminals Solutions and Services)\n",
            "\n",
            "OPTIMUS\n",
            "บริการขายส่งคอมพิวเตอร์ อุปกรณ์ต่อพ่วงคอมพิวเตอร์และซอฟต์แวร์ (Wireless/Wired/Security Solutions, Data Analytics Solutions, Value Added Services, Collaborative Solutions)\n",
            "\n",
            "CRM-C\n",
            "บริการให้คำปรึกษาและการจัดหาเกี่ยวกับซอฟต์แวร์์ CRM และ Cloud Solutions\n",
            "\n",
            "codemate\n",
            "บริการออกแบบพัฒนา Web/Mobile Application, IoT Solutions\n",
            "\n",
            "st\n",
            "บริการระบบเทคโนโลยีสารสนเทศ ด้าน Travel solutions\n",
            "\n"
          ]
        }
      ]
    },
    {
      "cell_type": "code",
      "source": [
        "group = []\n",
        "name = []\n",
        "for i in range(len(df)):\n",
        "  if df.iloc[i]['cluster'] == 14:\n",
        "    name.append(df.iloc[i]['ชื่อย่อสถานประกอบการ'])\n",
        "    group.append(df.iloc[i]['รายละเอียดธุรกิจ'])\n",
        "\n",
        "sample = pd.DataFrame({\n",
        "    'name': name,\n",
        "    'detail': group\n",
        "})\n",
        "\n",
        "cluster_list = {\n",
        "    0: \"IT Solution / Travel solutions\",\n",
        "    1: \"Web Design & Development\",\n",
        "    2: 'Customer platform service POS / *',\n",
        "    3: \"IT solution\",\n",
        "    4: \"Website development\",\n",
        "    5: \"Biometric / Medical\",\n",
        "    6: \"Digital agency / Digital marketing / SEO / Online marketing\",\n",
        "    7: \"Online platform / Transport / Financial\",\n",
        "    8: \"Network Infrastructure / Cloud service / Digital Consulting Services\",\n",
        "    9: \"Software development *\",\n",
        "    10: \"Chemical industry / Cosmetic manufacturer / Food / Industrial materials\",\n",
        "    11: \"Enterprise Resource Planning / Accounting / Human resource management\",\n",
        "    12: \"AR / VR / Automation system / Enterprise Solutions / Medical equipment / Construction / *\",\n",
        "    13: \"Software Development / Desktop Applications\",\n",
        "    14: \"Customer Relationship Management / Data analytics / AI / Big data / Chatbot\"\n",
        "}\n",
        "\n",
        "sample"
      ],
      "metadata": {
        "colab": {
          "base_uri": "https://localhost:8080/",
          "height": 1033
        },
        "id": "IX3fra77cHWe",
        "outputId": "77765336-f5d5-43d1-f5b4-c45ec68cc875"
      },
      "execution_count": 168,
      "outputs": [
        {
          "output_type": "execute_result",
          "data": {
            "text/plain": [
              "                     name                                             detail\n",
              "0             CC ChocoCRM  บริการ Platform CRM (customer relationship man...\n",
              "1                   VEKIN  บริการระบบบริหารจัดการพลังงานที่สามารถแสดงค่าก...\n",
              "2                   ZTRUS  บริการการแปลงข้อมูลจากเอกสารที่เป็นกระดาษ เข้า...\n",
              "3                  Ricult  บริการระบบจัดหาสินค้าการเกษตร (Digital Marketp...\n",
              "4              Stelligent  บริการ Big Data / Business Intelligent / Artif...\n",
              "..                    ...                                                ...\n",
              "63  MP Engineering System  บริการ นวัตกรรมที่รวบรวมข้อมูล Big data เครื่อ...\n",
              "64               CORALINE  บริการที่ปรึกษา และสร้าง Solution โดยใช้ Big D...\n",
              "65                  R&DBI  บริการห้คำปรึกษาทางด้านการนำเสนอภาพข้อมูลทางธุ...\n",
              "66                Aimagin  บริการผลิต ขาย อุปกรณ์อิเล็คทรอนิคส์ ระบบสมองก...\n",
              "67    Industrial Powerful  บริการประกอบกิจการรับจ้างแปรรูปพืชผลทางการเกษต...\n",
              "\n",
              "[68 rows x 2 columns]"
            ],
            "text/html": [
              "\n",
              "  <div id=\"df-56cf6aa2-65a1-4c9f-94c6-a0fc8ecde046\">\n",
              "    <div class=\"colab-df-container\">\n",
              "      <div>\n",
              "<style scoped>\n",
              "    .dataframe tbody tr th:only-of-type {\n",
              "        vertical-align: middle;\n",
              "    }\n",
              "\n",
              "    .dataframe tbody tr th {\n",
              "        vertical-align: top;\n",
              "    }\n",
              "\n",
              "    .dataframe thead th {\n",
              "        text-align: right;\n",
              "    }\n",
              "</style>\n",
              "<table border=\"1\" class=\"dataframe\">\n",
              "  <thead>\n",
              "    <tr style=\"text-align: right;\">\n",
              "      <th></th>\n",
              "      <th>name</th>\n",
              "      <th>detail</th>\n",
              "    </tr>\n",
              "  </thead>\n",
              "  <tbody>\n",
              "    <tr>\n",
              "      <th>0</th>\n",
              "      <td>CC ChocoCRM</td>\n",
              "      <td>บริการ Platform CRM (customer relationship man...</td>\n",
              "    </tr>\n",
              "    <tr>\n",
              "      <th>1</th>\n",
              "      <td>VEKIN</td>\n",
              "      <td>บริการระบบบริหารจัดการพลังงานที่สามารถแสดงค่าก...</td>\n",
              "    </tr>\n",
              "    <tr>\n",
              "      <th>2</th>\n",
              "      <td>ZTRUS</td>\n",
              "      <td>บริการการแปลงข้อมูลจากเอกสารที่เป็นกระดาษ เข้า...</td>\n",
              "    </tr>\n",
              "    <tr>\n",
              "      <th>3</th>\n",
              "      <td>Ricult</td>\n",
              "      <td>บริการระบบจัดหาสินค้าการเกษตร (Digital Marketp...</td>\n",
              "    </tr>\n",
              "    <tr>\n",
              "      <th>4</th>\n",
              "      <td>Stelligent</td>\n",
              "      <td>บริการ Big Data / Business Intelligent / Artif...</td>\n",
              "    </tr>\n",
              "    <tr>\n",
              "      <th>...</th>\n",
              "      <td>...</td>\n",
              "      <td>...</td>\n",
              "    </tr>\n",
              "    <tr>\n",
              "      <th>63</th>\n",
              "      <td>MP Engineering System</td>\n",
              "      <td>บริการ นวัตกรรมที่รวบรวมข้อมูล Big data เครื่อ...</td>\n",
              "    </tr>\n",
              "    <tr>\n",
              "      <th>64</th>\n",
              "      <td>CORALINE</td>\n",
              "      <td>บริการที่ปรึกษา และสร้าง Solution โดยใช้ Big D...</td>\n",
              "    </tr>\n",
              "    <tr>\n",
              "      <th>65</th>\n",
              "      <td>R&amp;DBI</td>\n",
              "      <td>บริการห้คำปรึกษาทางด้านการนำเสนอภาพข้อมูลทางธุ...</td>\n",
              "    </tr>\n",
              "    <tr>\n",
              "      <th>66</th>\n",
              "      <td>Aimagin</td>\n",
              "      <td>บริการผลิต ขาย อุปกรณ์อิเล็คทรอนิคส์ ระบบสมองก...</td>\n",
              "    </tr>\n",
              "    <tr>\n",
              "      <th>67</th>\n",
              "      <td>Industrial Powerful</td>\n",
              "      <td>บริการประกอบกิจการรับจ้างแปรรูปพืชผลทางการเกษต...</td>\n",
              "    </tr>\n",
              "  </tbody>\n",
              "</table>\n",
              "<p>68 rows × 2 columns</p>\n",
              "</div>\n",
              "      <button class=\"colab-df-convert\" onclick=\"convertToInteractive('df-56cf6aa2-65a1-4c9f-94c6-a0fc8ecde046')\"\n",
              "              title=\"Convert this dataframe to an interactive table.\"\n",
              "              style=\"display:none;\">\n",
              "        \n",
              "  <svg xmlns=\"http://www.w3.org/2000/svg\" height=\"24px\"viewBox=\"0 0 24 24\"\n",
              "       width=\"24px\">\n",
              "    <path d=\"M0 0h24v24H0V0z\" fill=\"none\"/>\n",
              "    <path d=\"M18.56 5.44l.94 2.06.94-2.06 2.06-.94-2.06-.94-.94-2.06-.94 2.06-2.06.94zm-11 1L8.5 8.5l.94-2.06 2.06-.94-2.06-.94L8.5 2.5l-.94 2.06-2.06.94zm10 10l.94 2.06.94-2.06 2.06-.94-2.06-.94-.94-2.06-.94 2.06-2.06.94z\"/><path d=\"M17.41 7.96l-1.37-1.37c-.4-.4-.92-.59-1.43-.59-.52 0-1.04.2-1.43.59L10.3 9.45l-7.72 7.72c-.78.78-.78 2.05 0 2.83L4 21.41c.39.39.9.59 1.41.59.51 0 1.02-.2 1.41-.59l7.78-7.78 2.81-2.81c.8-.78.8-2.07 0-2.86zM5.41 20L4 18.59l7.72-7.72 1.47 1.35L5.41 20z\"/>\n",
              "  </svg>\n",
              "      </button>\n",
              "      \n",
              "  <style>\n",
              "    .colab-df-container {\n",
              "      display:flex;\n",
              "      flex-wrap:wrap;\n",
              "      gap: 12px;\n",
              "    }\n",
              "\n",
              "    .colab-df-convert {\n",
              "      background-color: #E8F0FE;\n",
              "      border: none;\n",
              "      border-radius: 50%;\n",
              "      cursor: pointer;\n",
              "      display: none;\n",
              "      fill: #1967D2;\n",
              "      height: 32px;\n",
              "      padding: 0 0 0 0;\n",
              "      width: 32px;\n",
              "    }\n",
              "\n",
              "    .colab-df-convert:hover {\n",
              "      background-color: #E2EBFA;\n",
              "      box-shadow: 0px 1px 2px rgba(60, 64, 67, 0.3), 0px 1px 3px 1px rgba(60, 64, 67, 0.15);\n",
              "      fill: #174EA6;\n",
              "    }\n",
              "\n",
              "    [theme=dark] .colab-df-convert {\n",
              "      background-color: #3B4455;\n",
              "      fill: #D2E3FC;\n",
              "    }\n",
              "\n",
              "    [theme=dark] .colab-df-convert:hover {\n",
              "      background-color: #434B5C;\n",
              "      box-shadow: 0px 1px 3px 1px rgba(0, 0, 0, 0.15);\n",
              "      filter: drop-shadow(0px 1px 2px rgba(0, 0, 0, 0.3));\n",
              "      fill: #FFFFFF;\n",
              "    }\n",
              "  </style>\n",
              "\n",
              "      <script>\n",
              "        const buttonEl =\n",
              "          document.querySelector('#df-56cf6aa2-65a1-4c9f-94c6-a0fc8ecde046 button.colab-df-convert');\n",
              "        buttonEl.style.display =\n",
              "          google.colab.kernel.accessAllowed ? 'block' : 'none';\n",
              "\n",
              "        async function convertToInteractive(key) {\n",
              "          const element = document.querySelector('#df-56cf6aa2-65a1-4c9f-94c6-a0fc8ecde046');\n",
              "          const dataTable =\n",
              "            await google.colab.kernel.invokeFunction('convertToInteractive',\n",
              "                                                     [key], {});\n",
              "          if (!dataTable) return;\n",
              "\n",
              "          const docLinkHtml = 'Like what you see? Visit the ' +\n",
              "            '<a target=\"_blank\" href=https://colab.research.google.com/notebooks/data_table.ipynb>data table notebook</a>'\n",
              "            + ' to learn more about interactive tables.';\n",
              "          element.innerHTML = '';\n",
              "          dataTable['output_type'] = 'display_data';\n",
              "          await google.colab.output.renderOutput(dataTable, element);\n",
              "          const docLink = document.createElement('div');\n",
              "          docLink.innerHTML = docLinkHtml;\n",
              "          element.appendChild(docLink);\n",
              "        }\n",
              "      </script>\n",
              "    </div>\n",
              "  </div>\n",
              "  "
            ]
          },
          "metadata": {},
          "execution_count": 168
        }
      ]
    },
    {
      "cell_type": "code",
      "source": [
        "cluster_map = {\n",
        "    0: \"IT Solution / Travel solutions\",\n",
        "    1: \"Web Design & Development\",\n",
        "    2: 'Customer platform service POS / *',\n",
        "    3: \"IT solution\",\n",
        "    4: \"Website development\",\n",
        "    5: \"Biometric / Medical\",\n",
        "    6: \"Digital agency / Digital marketing / SEO / Online marketing\",\n",
        "    7: \"Online platform / Transport / Financial\",\n",
        "    8: \"Network Infrastructure / Cloud service / Digital Consulting Services\",\n",
        "    9: \"Software development *\",\n",
        "    10: \"Chemical industry / Cosmetic manufacturer / Food / Industrial materials\",\n",
        "    11: \"Enterprise Resource Planning / Accounting / Human resource management\",\n",
        "    12: \"AR / VR / Automation system / Enterprise Solutions / Medical equipment / Construction / *\",\n",
        "    13: \"Software Development / Desktop Applications\",\n",
        "    14: \"Customer Relationship Management / Data analytics / AI / Big data / Chatbot\"\n",
        "}\n",
        "\n",
        "# apply mapping\n",
        "df['cluster'] = df['cluster'].map(cluster_map)"
      ],
      "metadata": {
        "id": "1t_R6PEZqK3o"
      },
      "execution_count": 169,
      "outputs": []
    },
    {
      "cell_type": "code",
      "source": [
        "import random\n",
        "for i in range(5):\n",
        "  ind_sample = random.randint(0, len(df))\n",
        "  print(f'{df.iloc[ind_sample][\"ชื่อย่อสถานประกอบการ\"]}')\n",
        "  print(df.iloc[ind_sample]['รายละเอียดธุรกิจ'])\n",
        "  print(f'cluster label: {cluster[ind_sample]}')\n",
        "  print(f\"Category: {df.iloc[ind_sample]['cluster']}\")\n",
        "  print()"
      ],
      "metadata": {
        "colab": {
          "base_uri": "https://localhost:8080/"
        },
        "id": "NVR55tgMsLWp",
        "outputId": "0a251634-8ad4-4a24-da57-9025c9504650"
      },
      "execution_count": 174,
      "outputs": [
        {
          "output_type": "stream",
          "name": "stdout",
          "text": [
            "BIZNEXT\n",
            "บริการแอพพลิเคชั่น สำหรับช่วยในการลดขั้นตอน และกระบวนการในการตรวจสอบประเมิน สินค้าและบริการเพื่อการควบคุมคุณภาพ\n",
            "cluster label: 12\n",
            "Category: AR / VR / Automation system / Enterprise Solutions / Medical equipment / Construction / *\n",
            "\n",
            "UPPERCUZ CREATIVE\n",
            "บริการลักษณะ Digital Agency ให้บริการด้านการตลาดออนไลน์ บน Facebook, Website, Instagram และYoutube (Online Marketing, Media Advertising, Website & Mobile App, Packaging Design, Branding & Consulting)\n",
            "cluster label: 6\n",
            "Category: Digital agency / Digital marketing / SEO / Online marketing\n",
            "\n",
            "Raimaijon\n",
            "บริการผลิตน้ำผลไม้และน้ำผัก น้ำอ้อยพาสเจอร์ไรส์ ผลิตภัณฑ์น้ำอ้อยธรรมชาติ 100% พาสเจอร์ไรซ์ ไม่แต่งสีแต่งกลิ่น และไม่ใส่วัตถุกันเสีย โดยคัดเลือกอ้อยพันธุ์เฉพาะอันดับหนึ่งของไทย คือ พันธุ์สุพรรณบุรี 50 ที่มีความหวาน กลิ่นหอม สีสวย จากไร่อ้อยกว่า 40 ครัวเรือน ครอบคลุม 3 จังหวัด สามารถยืดอายุการเก็บรักษาได้ยาวนานขึ้นกว่าเดิมถึง 6.7 เท่า\n",
            "cluster label: 10\n",
            "Category: Chemical industry / Cosmetic manufacturer / Food / Industrial materials\n",
            "\n",
            "mirum\n",
            "บริการที่ปรึกษาทางด้านคอมพิวเตอร์ บริการพัฒนาและผลิตซอฟต์แวร์ (Digital Agency - Business Transformation, Experience Design, Commerce Activation)\n",
            "cluster label: 6\n",
            "Category: Digital agency / Digital marketing / SEO / Online marketing\n",
            "\n",
            "Eflowsys\n",
            "บริการพัฒนาซอฟท์แวร์ระบบ Cloud Software Solution, ERP MRP Web based Application, DDNS และให้บริการด้าน IT Network ติดตั้งระบบเครือข่ายคอมพิวเตอร์ ฐานข้อมูล คอมพิวเตอร์ และอุปกรณ์ ให้คำปรึกษาและบริการด้านบัญชี รวมทั้งให้บริการภายหลังการขายแก่ลูกค้าครบวงจร\n",
            "cluster label: 11\n",
            "Category: Enterprise Resource Planning / Accounting / Human resource management\n",
            "\n"
          ]
        }
      ]
    },
    {
      "cell_type": "code",
      "source": [
        "import collections\n",
        "counter = collections.Counter(df['cluster'])\n",
        "dict(sorted(counter.items()))"
      ],
      "metadata": {
        "colab": {
          "base_uri": "https://localhost:8080/"
        },
        "id": "r-89CRdO40E4",
        "outputId": "9a31d9a3-35ee-44ed-b285-aa071453eac1"
      },
      "execution_count": 122,
      "outputs": [
        {
          "output_type": "execute_result",
          "data": {
            "text/plain": [
              "{0: 10,\n",
              " 1: 79,\n",
              " 2: 234,\n",
              " 3: 65,\n",
              " 4: 90,\n",
              " 5: 28,\n",
              " 6: 63,\n",
              " 7: 122,\n",
              " 8: 76,\n",
              " 9: 24,\n",
              " 10: 176,\n",
              " 11: 66,\n",
              " 12: 442,\n",
              " 13: 100,\n",
              " 14: 68}"
            ]
          },
          "metadata": {},
          "execution_count": 122
        }
      ]
    }
  ]
}